{
 "cells": [
  {
   "cell_type": "markdown",
   "metadata": {},
   "source": [
    "# Install and import torch\n",
    "%pip install torch\n",
    "```python\n",
    "import torch\n",
    "```\n"
   ]
  },
  {
   "cell_type": "code",
   "execution_count": null,
   "metadata": {},
   "outputs": [
    {
     "ename": "ModuleNotFoundError",
     "evalue": "No module named 'numpy'",
     "output_type": "error",
     "traceback": [
      "\u001b[0;31m---------------------------------------------------------------------------\u001b[0m",
      "\u001b[0;31mModuleNotFoundError\u001b[0m                       Traceback (most recent call last)",
      "Cell \u001b[0;32mIn[5], line 2\u001b[0m\n\u001b[1;32m      1\u001b[0m \u001b[38;5;28;01mimport\u001b[39;00m\u001b[38;5;250m \u001b[39m\u001b[38;5;21;01mtorch\u001b[39;00m\n\u001b[0;32m----> 2\u001b[0m \u001b[38;5;28;01mimport\u001b[39;00m\u001b[38;5;250m \u001b[39m\u001b[38;5;21;01mnumpy\u001b[39;00m\u001b[38;5;250m \u001b[39m\u001b[38;5;28;01mas\u001b[39;00m\u001b[38;5;250m \u001b[39m\u001b[38;5;21;01mnp\u001b[39;00m\n\u001b[1;32m      4\u001b[0m \u001b[38;5;28mprint\u001b[39m(torch\u001b[38;5;241m.\u001b[39m__version__)\n\u001b[1;32m      5\u001b[0m \u001b[38;5;28mprint\u001b[39m(np\u001b[38;5;241m.\u001b[39m__version__)\n",
      "\u001b[0;31mModuleNotFoundError\u001b[0m: No module named 'numpy'"
     ]
    }
   ],
   "source": [
    "import torch\n",
    "\n",
    "print(torch.__version__)\n",
    "\n"
   ]
  },
  {
   "cell_type": "markdown",
   "metadata": {},
   "source": [
    "# Basic\n",
    "## Tensor\n"
   ]
  },
  {
   "cell_type": "code",
   "execution_count": null,
   "metadata": {},
   "outputs": [
    {
     "name": "stdout",
     "output_type": "stream",
     "text": [
      "data from list: \n",
      " tensor([[1, 2],\n",
      "        [3, 4]])\n",
      "one matrix: \n",
      " tensor([[1., 1.],\n",
      "        [1., 1.]])\n",
      "rand matrix: \n",
      " tensor([[0.1002, 0.5890],\n",
      "        [0.3953, 0.4386]])\n",
      "rand with shape: \n",
      " tensor([[0.7326, 0.4960, 0.7324, 0.5367, 0.8572],\n",
      "        [0.8464, 0.6745, 0.6243, 0.8441, 0.6333],\n",
      "        [0.4928, 0.2069, 0.9205, 0.7105, 0.1222],\n",
      "        [0.2998, 0.4963, 0.9469, 0.6307, 0.0445]])\n",
      "ones with shape: \n",
      " tensor([[1., 1., 1., 1., 1.],\n",
      "        [1., 1., 1., 1., 1.],\n",
      "        [1., 1., 1., 1., 1.],\n",
      "        [1., 1., 1., 1., 1.]])\n"
     ]
    }
   ],
   "source": [
    "data = [[1, 2], [3, 4]]\n",
    "# convert array to torch tensor\n",
    "torch_data = torch.tensor(data)\n",
    "print(\"data from list: \\n\", torch_data)\n",
    "\n",
    "# one like matrix\n",
    "one = torch.ones(2, 2)\n",
    "print(\"one matrix: \\n\", one)\n",
    "\n",
    "# random matrix\n",
    "rand = torch.rand(2, 2)\n",
    "print(\"rand matrix: \\n\", rand)\n",
    "\n",
    "shape = (4, 5, )\n",
    "rand_with_shape = torch.rand(shape)\n",
    "ones_with_shape = torch.ones(shape)\n",
    "\n",
    "print(\"rand with shape: \\n\", rand_with_shape)\n",
    "print(\"ones with shape: \\n\", ones_with_shape)\n"
   ]
  },
  {
   "cell_type": "markdown",
   "metadata": {},
   "source": [
    "## Attr of a torch.tensor"
   ]
  },
  {
   "cell_type": "code",
   "execution_count": null,
   "metadata": {},
   "outputs": [
    {
     "name": "stdout",
     "output_type": "stream",
     "text": [
      "shape of sample tensor:  torch.Size([2])\n",
      "datatype of sample tensor:  torch.float32\n",
      "tensor on device:  cpu\n",
      "accelerate is available, with device:  mps\n",
      "tensor on device:  mps:0\n"
     ]
    }
   ],
   "source": [
    "sample_tensor = torch.tensor((3, 4), dtype=torch.float32)\n",
    "\n",
    "print(\"shape of sample tensor: \", sample_tensor.shape)\n",
    "print(\"datatype of sample tensor: \", sample_tensor.dtype)\n",
    "print(\"tensor on device: \", sample_tensor.device)\n",
    "\n",
    "# move tensor to apple mps\n",
    "if torch.accelerator.is_available():\n",
    "    print(\"accelerate is available, with device: \", torch.accelerator.current_accelerator())\n",
    "    sample_tensor = sample_tensor.to(\"mps\")\n",
    "    print(\"tensor on device: \", sample_tensor.device)\n"
   ]
  },
  {
   "cell_type": "markdown",
   "metadata": {},
   "source": [
    "# Tensor slicing"
   ]
  },
  {
   "cell_type": "code",
   "execution_count": null,
   "metadata": {},
   "outputs": [],
   "source": []
  },
  {
   "cell_type": "code",
   "execution_count": null,
   "metadata": {},
   "outputs": [],
   "source": []
  },
  {
   "cell_type": "code",
   "execution_count": null,
   "metadata": {},
   "outputs": [],
   "source": []
  }
 ],
 "metadata": {
  "kernelspec": {
   "display_name": "ml",
   "language": "python",
   "name": "python3"
  },
  "language_info": {
   "codemirror_mode": {
    "name": "ipython",
    "version": 3
   },
   "file_extension": ".py",
   "mimetype": "text/x-python",
   "name": "python",
   "nbconvert_exporter": "python",
   "pygments_lexer": "ipython3",
   "version": "3.11.11"
  }
 },
 "nbformat": 4,
 "nbformat_minor": 2
}
