{
 "cells": [
  {
   "cell_type": "code",
   "execution_count": 12,
   "metadata": {},
   "outputs": [
    {
     "name": "stdout",
     "output_type": "stream",
     "text": [
      "3164\n",
      "912\n"
     ]
    }
   ],
   "source": [
    "import zlib\n",
    "\n",
    "# read idat from png\n",
    "idat = \"../../jff/playground/cnn/idat.out\"\n",
    "\n",
    "with open(idat, \"rb\") as f:\n",
    "    zip_idat = f.read()\n",
    "\n",
    "unziped_idat = zlib.decompress(zip_idat)\n",
    "\n",
    "\n",
    "print(len(unziped_idat))\n",
    "print(len(zip_idat))\n",
    "\n"
   ]
  },
  {
   "cell_type": "code",
   "execution_count": null,
   "metadata": {},
   "outputs": [],
   "source": []
  },
  {
   "cell_type": "code",
   "execution_count": null,
   "metadata": {},
   "outputs": [],
   "source": []
  }
 ],
 "metadata": {
  "kernelspec": {
   "display_name": "ml",
   "language": "python",
   "name": "python3"
  },
  "language_info": {
   "codemirror_mode": {
    "name": "ipython",
    "version": 3
   },
   "file_extension": ".py",
   "mimetype": "text/x-python",
   "name": "python",
   "nbconvert_exporter": "python",
   "pygments_lexer": "ipython3",
   "version": "3.11.11"
  }
 },
 "nbformat": 4,
 "nbformat_minor": 2
}
