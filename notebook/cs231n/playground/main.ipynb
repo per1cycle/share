{
 "cells": [
  {
   "cell_type": "code",
   "execution_count": 19,
   "metadata": {},
   "outputs": [],
   "source": [
    "\n",
    "class Base(object):\n",
    "    def forward(self):\n",
    "        raise NotImplementedError()\n",
    "    def backward(self, upstream_grad):\n",
    "        raise NotImplementedError()\n",
    "\n",
    "class Multiple(Base):\n",
    "    def __init__(self, x = None, y = None):\n",
    "        self.ctx = None\n",
    "\n",
    "    def forward(self, x, y):\n",
    "        self.save_ctx(x, y)\n",
    "        return x * y\n",
    "    \"\"\"\n",
    "        x * y's grad.\n",
    "    \"\"\"\n",
    "    def backward(self, upstream_grad):\n",
    "        x, y = self.saved_ctx()\n",
    "        return y * upstream_grad, x * upstream_grad\n",
    "\n",
    "    def save_ctx(self, x, y):\n",
    "        self.ctx = (x, y)\n",
    "    \n",
    "    def saved_ctx(self):\n",
    "        return self.ctx[0], self.ctx[1]\n",
    "\n",
    "class Add(Base):\n",
    "    def __init__(self, x = None, y = None):\n",
    "        self.ctx = None\n",
    "    \n",
    "    def forward(self, x, y):\n",
    "        self.save_ctx(x, y)\n",
    "        return x + y\n",
    "    \n",
    "    def backward(self, upstream_grad):\n",
    "        return upstream_grad, upstream_grad\n",
    "    \n",
    "    def save_ctx(self, x, y):\n",
    "        self.ctx = (x, y)\n",
    "\n",
    "    def saved_ctx(self):\n",
    "        return self.ctx[0], self.ctx[1]\n",
    "\n",
    "class One(Base):\n",
    "    def __init__(self, x = None):\n",
    "        self.ctx = None\n",
    "\n",
    "    def forward(self, x):\n",
    "        self.save_ctx(x)\n",
    "        return x\n",
    "\n",
    "    def backward(self, upstream_grad):\n",
    "        return upstream_grad\n",
    "\n",
    "    def save_ctx(self, x):\n",
    "        self.ctx = x\n",
    "\n",
    "    def saved_ctx(self):\n",
    "        return self.ctx[0]"
   ]
  },
  {
   "cell_type": "code",
   "execution_count": 28,
   "metadata": {},
   "outputs": [
    {
     "name": "stdout",
     "output_type": "stream",
     "text": [
      "3\n"
     ]
    }
   ],
   "source": [
    "mul = Multiple()\n",
    "add = Add()\n",
    "\n",
    "x, y = 3, 4\n",
    "\n",
    "z = mul.forward(x, y)\n",
    "z = add.forward(z, 5)\n",
    "\n",
    "grad_add_x, grad_add_y = add.backward(1)\n",
    "grad_mul_x, grad_mul_y = mul.backward(grad_add_y)\n",
    "print(grad_mul_y)\n"
   ]
  },
  {
   "cell_type": "code",
   "execution_count": null,
   "metadata": {},
   "outputs": [],
   "source": []
  }
 ],
 "metadata": {
  "kernelspec": {
   "display_name": "ml",
   "language": "python",
   "name": "python3"
  },
  "language_info": {
   "codemirror_mode": {
    "name": "ipython",
    "version": 3
   },
   "file_extension": ".py",
   "mimetype": "text/x-python",
   "name": "python",
   "nbconvert_exporter": "python",
   "pygments_lexer": "ipython3",
   "version": "3.11.11"
  }
 },
 "nbformat": 4,
 "nbformat_minor": 2
}
