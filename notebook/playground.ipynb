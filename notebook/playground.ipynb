{
 "cells": [
  {
   "cell_type": "code",
   "execution_count": 5,
   "metadata": {},
   "outputs": [
    {
     "name": "stdout",
     "output_type": "stream",
     "text": [
      "40\n"
     ]
    }
   ],
   "source": [
    "\"\"\"\n",
    "    get bit from ir [low, high]\n",
    "\"\"\"\n",
    "def get_bit_from(ir, low, high):\n",
    "    return (ir >> low) & ((1 << (high - low + 1)) - 1) \n",
    "\n",
    "a = 0b1001\n",
    "b = 0b1011\n",
    "ir = 0b00000101000000000000000001101111\n",
    "\n",
    "assert(get_bit_from(a, 0, 2) == 0b001)\n",
    "assert(get_bit_from(b, 0, 2) == 0b011)\n",
    "assert(get_bit_from(a, 1, 3) == 0b100)\n",
    "assert(get_bit_from(b, 1, 2) == 0b01)\n",
    "assert(get_bit_from(b, 1, 1) == 0b1)\n",
    "\n",
    "assert(get_bit_from(ir, 21, 30) == 0b0000101000 )\n",
    "# assert(get_bit_from(ir, 12, 19) == 0b0000101000 )\n",
    "# assert(get_bit_from(ir, 21, 30) == 0b0000101000 )\n",
    "# assert(get_bit_from(ir, 21, 30) == 0b0000101000 )\n",
    "print(get_bit_from(ir, 21, 30))"
   ]
  }
 ],
 "metadata": {
  "kernelspec": {
   "display_name": "base",
   "language": "python",
   "name": "python3"
  },
  "language_info": {
   "codemirror_mode": {
    "name": "ipython",
    "version": 3
   },
   "file_extension": ".py",
   "mimetype": "text/x-python",
   "name": "python",
   "nbconvert_exporter": "python",
   "pygments_lexer": "ipython3",
   "version": "3.12.2"
  }
 },
 "nbformat": 4,
 "nbformat_minor": 2
}
