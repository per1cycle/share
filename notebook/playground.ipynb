{
 "cells": [
  {
   "cell_type": "code",
   "execution_count": 7,
   "metadata": {},
   "outputs": [],
   "source": [
    "\"\"\"\n",
    "    get bit from ir [low, high]\n",
    "\"\"\"\n",
    "def get_bit_from(ir, low, high):\n",
    "    ir = ir >> low\n",
    "    mask = (1 << (high - low + 1)) - 1\n",
    "    return ir & mask \n",
    "\n",
    "a = 0b1001\n",
    "b = 0b1011\n",
    "\n",
    "assert(get_bit_from(a, 0, 2) == 0b001)\n",
    "assert(get_bit_from(b, 0, 2) == 0b011)\n",
    "assert(get_bit_from(a, 1, 3) == 0b100)\n",
    "assert(get_bit_from(b, 1, 2) == 0b01)\n",
    "assert(get_bit_from(b, 1, 1) == 0b1)\n"
   ]
  }
 ],
 "metadata": {
  "kernelspec": {
   "display_name": "base",
   "language": "python",
   "name": "python3"
  },
  "language_info": {
   "codemirror_mode": {
    "name": "ipython",
    "version": 3
   },
   "file_extension": ".py",
   "mimetype": "text/x-python",
   "name": "python",
   "nbconvert_exporter": "python",
   "pygments_lexer": "ipython3",
   "version": "3.12.2"
  }
 },
 "nbformat": 4,
 "nbformat_minor": 2
}
